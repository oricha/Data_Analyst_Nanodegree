{
 "cells": [
  {
   "cell_type": "markdown",
   "metadata": {},
   "source": [
    "# P1 : Test a Perpetual Phenomenon "
   ]
  },
  {
   "cell_type": "markdown",
   "metadata": {},
   "source": [
    "## Background Information"
   ]
  },
  {
   "cell_type": "markdown",
   "metadata": {},
   "source": [
    "In a Stroop task, participants are presented with a list of words, with each word displayed in a color of ink. The participant’s task is to say out loud the color of the ink in which the word is printed. The task has two conditions: a congruent words condition, and an incongruent words condition. In the congruent words condition, the words being displayed are color words whose names match the colors in which they are printed: for example<font color=\"red\"> RED</font>, <font color=\"blue\">BLUE</font>. In the incongruent words condition, the words displayed are color words whose names do not match the colors in which they are printed: for example<font color=\"green\"> PURPLE</font>,<font color=\"gray\"> ORANGE</font>. In each case, we measure the time it takes to name the ink colors in equally-sized lists. Each participant will go through and record a time from each condition."
   ]
  },
  {
   "cell_type": "markdown",
   "metadata": {},
   "source": [
    "### Question 2 :What is an appropriate set of hypotheses for this task? What kind of statistical test do you expect to perform? Justify your choices."
   ]
  },
  {
   "cell_type": "markdown",
   "metadata": {},
   "source": [
    "***Hypothesis***\n",
    "\n",
    "**i. $H_0$:** The average time of the participants to say the congruent words is not significantly different from the average time it takes the participants to say the incongruent words. In other words, the average time is taken to name the color of the words its the same for both, congruent and incongruent, and it is not significantly different.\n",
    "**i.e** $\\mu_i$ = $\\mu_c$\n",
    "\n",
    "**ii. $H_A$:** The averages times of population it takes to name the ink colors is a significant difference between the incongruents words and congruent words.\n",
    "**i.e**  $\\mu_i$ ≠ $\\mu_c$\n",
    "\n",
    "**where,**    \n",
    "* $H_0$ : Null Hypothesis\n",
    "* $H_A$ : Alternate Hypothesis\n",
    "* $\\mu_i$ : Population mean for Incongruent condition\n",
    "* $\\mu_c$ : Population mean for Congruent condition"
   ]
  },
  {
   "cell_type": "markdown",
   "metadata": {},
   "source": [
    "### Question 3 : Report some descriptive statistics regarding this dataset. Include at least one measure of central tendency and at least one measure of variability."
   ]
  },
  {
   "cell_type": "markdown",
   "metadata": {},
   "source": [
    "***Descriptive Statistics***\n",
    "\n",
    "In this demostration we want to see if there's a significant diference between the average time for the congruent population and the average time of the incongruent population. I have chosen to perform a dependent sample two tailed t test to evaluate the null and alternate hypothesis. \n",
    "\n",
    "* Sample size n = 24\n",
    "* Degree of freedom Df= n-1 =23\n",
    "\n",
    "In this case we use a two-tail direction then using a alfa level of .005 and directional two tail found the t-critical\n",
    "* t-critical for alfa=0.005  is 2.069\n",
    "\n",
    "|                    | Congruent | Incongruent | Difference(I-C) |\n",
    "|--------------------|:---------:|:-----------:|:---------------:|\n",
    "| Mean               |   14.051  |    22.015   |       7.96      |\n",
    "| Median             |   14.357  |    21.018   |       7.67      |\n",
    "| Standard Deviation |   3.559   |    4.797    |      4.865      |\n",
    "\n",
    "*Point Estimate its the diference between means  $\\mu_i$ - $\\mu_c$ \n",
    "\n",
    "What it sthe Standar Error ?\n"
   ]
  },
  {
   "cell_type": "code",
   "execution_count": 16,
   "metadata": {
    "collapsed": false
   },
   "outputs": [
    {
     "name": "stdout",
     "output_type": "stream",
     "text": [
      "Mean of Congruent : 14.051125\n",
      "Median of Congruent : 14.3565\n"
     ]
    }
   ],
   "source": [
    "import pandas as pd\n",
    "import statistics\n",
    "\n",
    "# Read the csv data set\n",
    "dframe=pd.read_csv(\"stroopdata.csv\")\n",
    " \n",
    "print (\"Mean of Congruent :\", statistics.mean(dframe[\"Congruent\"]))\n",
    "print (\"Median of Congruent :\" ,  statistics.median(dframe[\"Congruent\"]))\n"
   ]
  },
  {
   "cell_type": "code",
   "execution_count": 17,
   "metadata": {
    "collapsed": false
   },
   "outputs": [
    {
     "name": "stdout",
     "output_type": "stream",
     "text": [
      "Mean of Incongruent : 22.0159166667\n",
      "Median of Incongruent : 21.0175\n"
     ]
    }
   ],
   "source": [
    "print (\"Mean of Incongruent :\", statistics.mean(dataFrame[\"Incongruent\"]))\n",
    "print (\"Median of Incongruent :\", statistics.median(dataFrame[\"Incongruent\"]))"
   ]
  },
  {
   "cell_type": "code",
   "execution_count": null,
   "metadata": {
    "collapsed": false
   },
   "outputs": [],
   "source": []
  },
  {
   "cell_type": "markdown",
   "metadata": {},
   "source": [
    "### Question 4: Provide one or two visualizations that show the distribution of the sample data. Write one or two sentences noting what you observe about the plot or plots."
   ]
  },
  {
   "cell_type": "code",
   "execution_count": 18,
   "metadata": {
    "collapsed": false
   },
   "outputs": [
    {
     "name": "stdout",
     "output_type": "stream",
     "text": [
      "Populating the interactive namespace from numpy and matplotlib\n"
     ]
    },
    {
     "data": {
      "text/plain": [
       "<matplotlib.text.Text at 0x107b9f5c0>"
      ]
     },
     "execution_count": 18,
     "metadata": {},
     "output_type": "execute_result"
    },
    {
     "data": {
      "image/png": "[encoded data removed]",
      "text/plain": [
       "<matplotlib.figure.Figure at 0x1078b2978>"
      ]
     },
     "metadata": {},
     "output_type": "display_data"
    }
   ],
   "source": [
    "# Causes plots to display within the notebook rather than in a new window\n",
    "%pylab inline\n",
    "import matplotlib.pyplot as plt\n",
    "plt.hist(dframe[\"Incongruent\"],color=\"red\")\n",
    "plt.hist(dframe[\"Congruent\"],color=\"blue\")\n",
    "plt.xlabel(\"Congruent/Incongruent\")\n",
    "plt.ylabel(\"Frequency\")"
   ]
  },
  {
   "cell_type": "markdown",
   "metadata": {
    "collapsed": true
   },
   "source": [
    "***Visualitation annotation***\n",
    "*The Incongruent values are always higher than Congruent"
   ]
  },
  {
   "cell_type": "markdown",
   "metadata": {},
   "source": [
    "### Question 5 :Now, perform the statistical test and report your results. What is your confidence level and your critical statistic value? Do you reject the null hypothesis or fail to reject it? Come to a conclusion in terms of the experiment task. Did the results match up with your expectations?"
   ]
  },
  {
   "cell_type": "markdown",
   "metadata": {
    "collapsed": true
   },
   "source": [
    "\n",
    "\n",
    "***Result Section***\n",
    "\n",
    "*Compute t-statistic\n",
    "\n",
    "*Draw t-distribution. Does fall in the critical region ?\n",
    "\n",
    "*What is the P Value for this t\n",
    "\n",
    "*Are this result statistically  significant? YES/NO\n",
    "\n",
    "*Are this result meaningfull ?\n",
    "\n",
    "*Compute the Margin or error for the 95%\n",
    "\n",
    "\n"
   ]
  },
  {
   "cell_type": "markdown",
   "metadata": {},
   "source": [
    "### Question 6 Optional: What do you think is responsible for the effects observed? Can you think of an alternative or similar task that would result in a similar effect? Some research about the problem will be helpful for thinking about these two questions!"
   ]
  },
  {
   "cell_type": "code",
   "execution_count": null,
   "metadata": {
    "collapsed": true
   },
   "outputs": [],
   "source": []
  },
  {
   "cell_type": "code",
   "execution_count": null,
   "metadata": {
    "collapsed": true
   },
   "outputs": [],
   "source": []
  }
 ],
 "metadata": {
  "kernelspec": {
   "display_name": "Python 3",
   "language": "python",
   "name": "python3"
  },
  "language_info": {
   "codemirror_mode": {
    "name": "ipython",
    "version": 3
   },
   "file_extension": ".py",
   "mimetype": "text/x-python",
   "name": "python",
   "nbconvert_exporter": "python",
   "pygments_lexer": "ipython3",
   "version": "3.5.1"
  }
 },
 "nbformat": 4,
 "nbformat_minor": 0
}
